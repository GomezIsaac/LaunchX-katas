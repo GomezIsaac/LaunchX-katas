{
 "cells": [
  {
   "cell_type": "markdown",
   "metadata": {},
   "source": [
    "Fecha"
   ]
  },
  {
   "cell_type": "markdown",
   "metadata": {},
   "source": [
    "Fecha actual de la computadora"
   ]
  },
  {
   "cell_type": "code",
   "execution_count": 1,
   "metadata": {},
   "outputs": [
    {
     "name": "stdout",
     "output_type": "stream",
     "text": [
      "La fecha actual es:  2022-02-11\n"
     ]
    }
   ],
   "source": [
    "from datetime import date \n",
    "print(\"La fecha actual es: \", date.today())"
   ]
  },
  {
   "cell_type": "markdown",
   "metadata": {},
   "source": [
    "CONVERSION DE UNIDADES"
   ]
  },
  {
   "cell_type": "markdown",
   "metadata": {},
   "source": [
    "Convierte años luz y parsecs."
   ]
  },
  {
   "cell_type": "code",
   "execution_count": 2,
   "metadata": {},
   "outputs": [
    {
     "name": "stdout",
     "output_type": "stream",
     "text": [
      "11 Parsec, son: 35.877159999999996 Años luz\n"
     ]
    }
   ],
   "source": [
    "paresc = 11\n",
    "lightyears = 3.26156 * paresc\n",
    "print(str(paresc) + \" Parsec, son: \" + str(lightyears) + \" Años luz\")"
   ]
  }
 ],
 "metadata": {
  "interpreter": {
   "hash": "4743149b3c3de0737dc31b5556bff4a4c17848c644206bf8d859c7982ad78de3"
  },
  "kernelspec": {
   "display_name": "Python 3.10.1 64-bit",
   "language": "python",
   "name": "python3"
  },
  "language_info": {
   "codemirror_mode": {
    "name": "ipython",
    "version": 3
   },
   "file_extension": ".py",
   "mimetype": "text/x-python",
   "name": "python",
   "nbconvert_exporter": "python",
   "pygments_lexer": "ipython3",
   "version": "3.10.1"
  },
  "orig_nbformat": 4
 },
 "nbformat": 4,
 "nbformat_minor": 2
}
