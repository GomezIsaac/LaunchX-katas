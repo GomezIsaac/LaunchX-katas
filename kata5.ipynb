{
 "cells": [
  {
   "cell_type": "markdown",
   "metadata": {},
   "source": [
    "EJERCICIO 1"
   ]
  },
  {
   "cell_type": "code",
   "execution_count": 1,
   "metadata": {},
   "outputs": [
    {
     "name": "stdout",
     "output_type": "stream",
     "text": [
      "Distancia en KM: 628949330\n",
      "Distancia en Millas: 390577533.93\n"
     ]
    }
   ],
   "source": [
    "PlanetaUno = 149597870\n",
    "PlanetaDos = 778547200\n",
    "\n",
    "distanciaKM = PlanetaDos - PlanetaUno\n",
    "print(\"Distancia en KM:\",distanciaKM)\n",
    "\n",
    "distanciaMill = distanciaKM * 0.621  \n",
    "print(\"Distancia en Millas:\",distanciaMill)"
   ]
  },
  {
   "cell_type": "markdown",
   "metadata": {},
   "source": [
    "EJERCICIO 2"
   ]
  },
  {
   "cell_type": "code",
   "execution_count": null,
   "metadata": {},
   "outputs": [],
   "source": [
    "PlanetaUno = int(input(\"Dame el valor de la primer distancia en KM: \"))\n",
    "PlanetaDos = int(input(\"Dame el valor de la segunda distancia en KM: \"))\n",
    "\n",
    "distanciaKM = PlanetaDos - PlanetaUno\n",
    "print(\"Distancia en KM:\",distanciaKM)\n",
    "\n",
    "distanciaMi = distanciaKM * 0.621  \n",
    "print(\"Distancia en Millas:\",distanciaMi)"
   ]
  }
 ],
 "metadata": {
  "interpreter": {
   "hash": "4743149b3c3de0737dc31b5556bff4a4c17848c644206bf8d859c7982ad78de3"
  },
  "kernelspec": {
   "display_name": "Python 3.10.1 64-bit",
   "language": "python",
   "name": "python3"
  },
  "language_info": {
   "codemirror_mode": {
    "name": "ipython",
    "version": 3
   },
   "file_extension": ".py",
   "mimetype": "text/x-python",
   "name": "python",
   "nbconvert_exporter": "python",
   "pygments_lexer": "ipython3",
   "version": "3.10.1"
  },
  "orig_nbformat": 4
 },
 "nbformat": 4,
 "nbformat_minor": 2
}
