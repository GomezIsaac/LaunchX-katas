{
 "cells": [
  {
   "cell_type": "markdown",
   "metadata": {},
   "source": [
    "EJERCICIO 1."
   ]
  },
  {
   "cell_type": "markdown",
   "metadata": {},
   "source": [
    " Añadir el código necesario para crear una variable que guarde la velocidad del asteroide."
   ]
  },
  {
   "cell_type": "markdown",
   "metadata": {},
   "source": [
    " Escribe una expresión de prueba para calcular si necesita una advertencia."
   ]
  },
  {
   "cell_type": "markdown",
   "metadata": {},
   "source": [
    " Agregue las instrucciones que se ejecutarán si la expresión de prueba es true o false."
   ]
  },
  {
   "cell_type": "code",
   "execution_count": 4,
   "metadata": {},
   "outputs": [
    {
     "name": "stdout",
     "output_type": "stream",
     "text": [
      "¡Mira, el asteroide viene demasiado rapido!\n"
     ]
    }
   ],
   "source": [
    "asteroide = 49\n",
    "if asteroide > 25:\n",
    "    print('¡Mira, el asteroide viene demasiado rapido!')\n",
    "else:\n",
    "    print('Todo tranquilo capitan!')"
   ]
  },
  {
   "cell_type": "markdown",
   "metadata": {},
   "source": [
    "EJERCICIO 2."
   ]
  },
  {
   "cell_type": "markdown",
   "metadata": {},
   "source": [
    " Agrega el código para crear una variable para un asteroide que viaja a 19 km/s"
   ]
  },
  {
   "cell_type": "markdown",
   "metadata": {},
   "source": [
    " Escribe varias expresiones de prueba para determinar si puedes ver el rayo de luz desde la tierra"
   ]
  },
  {
   "cell_type": "markdown",
   "metadata": {},
   "source": [
    "  Agrega las instrucciones que se ejecutarán si las expresiones de prueba son True o False"
   ]
  },
  {
   "cell_type": "code",
   "execution_count": 5,
   "metadata": {},
   "outputs": [
    {
     "name": "stdout",
     "output_type": "stream",
     "text": [
      "¡No pasa nada!\n"
     ]
    }
   ],
   "source": [
    "asteroide = 19\n",
    "if asteroide > 20:\n",
    "    print(' ¡Mira, una luz en el cielo!')\n",
    "elif asteroide == 20:\n",
    "    print(' ¡¡Mira, una luz en el cielo!')\n",
    "else:\n",
    "    print('¡No pasa nada!')"
   ]
  },
  {
   "cell_type": "markdown",
   "metadata": {},
   "source": [
    "EJERCICIO 3."
   ]
  },
  {
   "cell_type": "markdown",
   "metadata": {},
   "source": [
    " Agrega el código para crear nuevas variables para la velocidad y el tamaño del asteroide"
   ]
  },
  {
   "cell_type": "markdown",
   "metadata": {},
   "source": [
    " Para probar el código, prueba con varias velocidades y tamaños"
   ]
  },
  {
   "cell_type": "markdown",
   "metadata": {},
   "source": [
    " Escribe varias expresiones de prueba o combinaciones de expresiones de prueba para determinar qué mensaje se debe enviar a Tierra."
   ]
  },
  {
   "cell_type": "code",
   "execution_count": 6,
   "metadata": {},
   "outputs": [
    {
     "name": "stdout",
     "output_type": "stream",
     "text": [
      "¡Mira, una luz en el cielo!\n"
     ]
    }
   ],
   "source": [
    "velocidad_asteroide = 25\n",
    "tamano_asteroide = 40\n",
    "if velocidad_asteroide > 25 and tamano_asteroide > 25:\n",
    "    print('¡Cuidado, Un asteroide viene!')\n",
    "elif velocidad_asteroide >= 20:\n",
    "    print('¡Hay una luz mágica en el cielo!')\n",
    "elif tamano_asteroide < 25:\n",
    "    print('Sin novedad mi capitan')\n",
    "else:\n",
    "    print('Sin novedad mi capitan')"
   ]
  }
 ],
 "metadata": {
  "interpreter": {
   "hash": "4743149b3c3de0737dc31b5556bff4a4c17848c644206bf8d859c7982ad78de3"
  },
  "kernelspec": {
   "display_name": "Python 3.10.1 64-bit",
   "language": "python",
   "name": "python3"
  },
  "language_info": {
   "codemirror_mode": {
    "name": "ipython",
    "version": 3
   },
   "file_extension": ".py",
   "mimetype": "text/x-python",
   "name": "python",
   "nbconvert_exporter": "python",
   "pygments_lexer": "ipython3",
   "version": "3.10.1"
  },
  "orig_nbformat": 4
 },
 "nbformat": 4,
 "nbformat_minor": 2
}
