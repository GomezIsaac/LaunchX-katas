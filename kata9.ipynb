{
 "cells": [
  {
   "cell_type": "markdown",
   "metadata": {},
   "source": [
    "EJERCICIO 1."
   ]
  },
  {
   "cell_type": "code",
   "execution_count": null,
   "metadata": {},
   "outputs": [],
   "source": [
    "def reporte(tanque_principal, tanque_externo, tanque_hidrogeno):\n",
    "    total_average = (tanque_principal + tanque_externo + tanque_hidrogeno) / 3\n",
    "    return f\"\"\"Reporte de combustible:\n",
    "    Promedio total: {total_average}%\n",
    "    Tanque principal: {tanque_principal}%\n",
    "    Tanque externo: {tanque_externo}%\n",
    "    Tanque de hidrogeno: {tanque_hidrogeno}% \n",
    "    \"\"\"\n",
    "print(reporte(80, 70, 85))\n",
    "\n",
    "def promedio(valores):\n",
    "    total = sum(valores)\n",
    "    numero = len(valores)\n",
    "    return total / numero\n",
    "\n",
    "promedio([80, 85, 81]) \n",
    "\n",
    "def reporte(tanque_principal, tanque_externo, tanque_hidrogeno):\n",
    "    total_average = (tanque_principal + tanque_externo + tanque_hidrogeno) / 3\n",
    "    return f\"\"\"Reporte de combustible:\n",
    "    Promedio total: {total_average}%\n",
    "    Tanque principal: {tanque_principal}%\n",
    "    Tanque externo: {tanque_externo}%\n",
    "    Tanque de hidrogeno: {tanque_hidrogeno}% \n",
    "    \"\"\"\n",
    "\n",
    "print(reporte(88, 76, 70))"
   ]
  },
  {
   "cell_type": "markdown",
   "metadata": {},
   "source": [
    "EJERCICIO 2"
   ]
  },
  {
   "cell_type": "code",
   "execution_count": null,
   "metadata": {},
   "outputs": [],
   "source": [
    "def reporte_lanzamiento(tiempo_lanzamiento, tiempo_vuelo, destino, tanque_externo, tanque_principal):\n",
    "    return f\"\"\"\n",
    "    Mision hacia la {destino}\n",
    "    Tiempo de vuelo: {tiempo_lanzamiento + tiempo_vuelo } minutos\n",
    "    Total de combustimble restante: {tanque_externo + tanque_principal} galones\n",
    "    \"\"\"\n",
    "\n",
    "print(reporte_lanzamiento(14, 51, \"Luna\", 200000, 300000))\n",
    "\n",
    "def reporte_lanzamiento(destino, *minutos, **reservas_combustible):\n",
    "    return f\"\"\"\n",
    "    Mision hacia la {destino}\n",
    "    Tiempo de vuelo: {sum(minutos)} minutos\n",
    "    Total de combustimble restante: {sum(reservas_combustible.values())}\n",
    "    \"\"\"\n",
    "\n",
    "print(reporte_lanzamiento(\"Luna\", 10, 15, 51, Principal=300000, Externo=200000))\n",
    "\n",
    "def reporte_lanzamiento(destino, *minutos, **reservas_combustible):\n",
    "    reporte = f\"\"\"\n",
    "    Mision hacia la {destino}\n",
    "    Tiempo de vuelo: {sum(minutos)} minutos\n",
    "    Total de combustimble restante: {sum(reservas_combustible.values())}\n",
    "    \"\"\"\n",
    "    for tanque, combus in reservas_combustible.items():\n",
    "        reporte += f\"{tanque} {combus} galones restantes\\n\"\n",
    "    return reporte\n",
    "\n",
    "print(reporte_lanzamiento(\"Luna\", 8, 11, 55, Principal=300000, Externo=200000))"
   ]
  }
 ],
 "metadata": {
  "interpreter": {
   "hash": "4743149b3c3de0737dc31b5556bff4a4c17848c644206bf8d859c7982ad78de3"
  },
  "kernelspec": {
   "display_name": "Python 3.10.1 64-bit",
   "language": "python",
   "name": "python3"
  },
  "language_info": {
   "name": "python",
   "version": "3.10.1"
  },
  "orig_nbformat": 4
 },
 "nbformat": 4,
 "nbformat_minor": 2
}
